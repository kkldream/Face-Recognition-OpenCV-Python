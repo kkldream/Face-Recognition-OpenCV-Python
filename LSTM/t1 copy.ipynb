{
 "cells": [
  {
   "cell_type": "code",
   "execution_count": 49,
   "metadata": {},
   "outputs": [
    {
     "name": "stdout",
     "output_type": "stream",
     "text": [
      "/home/kk/jupyter/stock_prediction\n"
     ]
    }
   ],
   "source": [
    "cd /home/kk/jupyter/stock_prediction/"
   ]
  },
  {
   "cell_type": "code",
   "execution_count": 50,
   "metadata": {},
   "outputs": [],
   "source": [
    "import pandas as pd\n",
    "import numpy as np\n",
    "from keras.models import Sequential\n",
    "from keras.layers import Dense, Dropout, Activation, Flatten, LSTM, TimeDistributed, RepeatVector\n",
    "from keras.layers.normalization import BatchNormalization\n",
    "from keras.optimizers import Adam\n",
    "from keras.callbacks import EarlyStopping, ModelCheckpoint\n",
    "import matplotlib.pyplot as plt\n",
    "import json\n",
    "%matplotlib inline"
   ]
  },
  {
   "cell_type": "code",
   "execution_count": 51,
   "metadata": {},
   "outputs": [],
   "source": [
    "def readData(file):\n",
    "    mlist = []\n",
    "    with open(file, 'r', encoding='utf-8') as file:\n",
    "        while True:\n",
    "            line = file.readline()\n",
    "            if len(line) == 0:\n",
    "                break\n",
    "            mjson = json.loads(line)\n",
    "            mlist.append([mjson['level'], mjson['mouth']])\n",
    "    return pd.DataFrame(mlist)"
   ]
  },
  {
   "cell_type": "markdown",
   "metadata": {},
   "source": [
    "### 數據規一化\n",
    "\n",
    "將所有值映射到[0, 1]之間\n",
    "\n",
    "https://blog.csdn.net/weixin_40683253/article/details/81508321\n",
    "\n",
    "https://scikit-learn.org/stable/modules/generated/sklearn.preprocessing.MinMaxScaler.html"
   ]
  },
  {
   "cell_type": "code",
   "execution_count": 52,
   "metadata": {},
   "outputs": [],
   "source": [
    "from sklearn.preprocessing import MinMaxScaler\n",
    "def normalize(train):\n",
    "    scaler = MinMaxScaler()\n",
    "    train_norm = scaler.fit_transform(train)\n",
    "    return train_norm"
   ]
  },
  {
   "cell_type": "code",
   "execution_count": 53,
   "metadata": {},
   "outputs": [],
   "source": [
    "def buildTrain(train, long=30):\n",
    "  X_train, Y_train = [], []\n",
    "  for i in range(train.shape[0]-long):\n",
    "    X_train.append(train[i:i+long,1:])\n",
    "    Y_train.append(train[i+long-1][0])\n",
    "  return np.array(X_train), np.array(Y_train)"
   ]
  },
  {
   "cell_type": "code",
   "execution_count": 54,
   "metadata": {},
   "outputs": [],
   "source": [
    "def shuffle(X,Y):\n",
    "  np.random.seed(10)\n",
    "  randomList = np.arange(X.shape[0])\n",
    "  np.random.shuffle(randomList)\n",
    "  return X[randomList], Y[randomList]"
   ]
  },
  {
   "cell_type": "code",
   "execution_count": 55,
   "metadata": {},
   "outputs": [],
   "source": [
    "def splitData(X,Y,rate):\n",
    "  X_train = X[int(X.shape[0]*rate):]\n",
    "  Y_train = Y[int(Y.shape[0]*rate):]\n",
    "  X_val = X[:int(X.shape[0]*rate)]\n",
    "  Y_val = Y[:int(Y.shape[0]*rate)]\n",
    "  return X_train, Y_train, X_val, Y_val"
   ]
  },
  {
   "cell_type": "code",
   "execution_count": 56,
   "metadata": {},
   "outputs": [
    {
     "name": "stdout",
     "output_type": "stream",
     "text": [
      "X_train: (641, 100, 1)\n",
      "Y_train: (641,)\n",
      "X_val: (71, 100, 1)\n",
      "Y_val: (71,)\n"
     ]
    }
   ],
   "source": [
    "train = readData('output.txt')\n",
    "train_norm = normalize(train)\n",
    "X_train, Y_train = buildTrain(train_norm, 100)\n",
    "X_train, Y_train = shuffle(X_train, Y_train)\n",
    "X_train, Y_train, X_val, Y_val = splitData(X_train, Y_train, 0.1)\n",
    "print(f'X_train: {X_train.shape}')\n",
    "print(f'Y_train: {Y_train.shape}')\n",
    "print(f'X_val: {X_val.shape}')\n",
    "print(f'Y_val: {Y_val.shape}')"
   ]
  },
  {
   "cell_type": "code",
   "execution_count": 57,
   "metadata": {},
   "outputs": [
    {
     "data": {
      "image/png": "[encoded data removed]",
      "text/plain": [
       "<Figure size 432x288 with 1 Axes>"
      ]
     },
     "metadata": {
      "needs_background": "light"
     },
     "output_type": "display_data"
    }
   ],
   "source": [
    "plt.plot(train_norm[:,0], color='r', label='X_train')\n",
    "plt.plot(train_norm[:,1], color='b', label='Y_train')\n",
    "plt.legend()\n",
    "plt.show()"
   ]
  },
  {
   "cell_type": "code",
   "execution_count": 58,
   "metadata": {},
   "outputs": [
    {
     "name": "stdout",
     "output_type": "stream",
     "text": [
      "_________________________________________________________________\n",
      "Layer (type)                 Output Shape              Param #   \n",
      "=================================================================\n",
      "lstm_4 (LSTM)                (None, 10)                480       \n",
      "_________________________________________________________________\n",
      "dense_4 (Dense)              (None, 1)                 11        \n",
      "=================================================================\n",
      "Total params: 491\n",
      "Trainable params: 491\n",
      "Non-trainable params: 0\n",
      "_________________________________________________________________\n"
     ]
    }
   ],
   "source": [
    "model = Sequential([\n",
    "    LSTM(10, input_shape=X_train.shape[1:]),\n",
    "    Dense(1)\n",
    "])\n",
    "model.compile(loss=\"mse\", optimizer=\"adam\")\n",
    "model.summary()"
   ]
  },
  {
   "cell_type": "code",
   "execution_count": 59,
   "metadata": {},
   "outputs": [
    {
     "name": "stdout",
     "output_type": "stream",
     "text": [
      "Train on 641 samples, validate on 71 samples\n",
      "Epoch 1/1000\n",
      "641/641 [==============================] - 1s 2ms/step - loss: 0.3067 - val_loss: 0.3326\n",
      "Epoch 2/1000\n",
      "641/641 [==============================] - 1s 1ms/step - loss: 0.2701 - val_loss: 0.2931\n",
      "Epoch 3/1000\n",
      "641/641 [==============================] - 1s 1ms/step - loss: 0.2403 - val_loss: 0.2592\n",
      "Epoch 4/1000\n",
      "641/641 [==============================] - 1s 1ms/step - loss: 0.2152 - val_loss: 0.2306\n",
      "Epoch 5/1000\n",
      "641/641 [==============================] - 1s 1ms/step - loss: 0.1934 - val_loss: 0.2047\n",
      "Epoch 6/1000\n",
      "641/641 [==============================] - 1s 1ms/step - loss: 0.1737 - val_loss: 0.1801\n",
      "Epoch 7/1000\n",
      "641/641 [==============================] - 1s 1ms/step - loss: 0.1541 - val_loss: 0.1567\n",
      "Epoch 8/1000\n",
      "641/641 [==============================] - 1s 1ms/step - loss: 0.1364 - val_loss: 0.1332\n",
      "Epoch 9/1000\n",
      "641/641 [==============================] - 1s 1ms/step - loss: 0.1174 - val_loss: 0.1120\n",
      "Epoch 10/1000\n",
      "641/641 [==============================] - 1s 1ms/step - loss: 0.1026 - val_loss: 0.0981\n",
      "Epoch 11/1000\n",
      "641/641 [==============================] - 1s 1ms/step - loss: 0.0924 - val_loss: 0.0868\n",
      "Epoch 12/1000\n",
      "641/641 [==============================] - 1s 975us/step - loss: 0.0829 - val_loss: 0.0776\n",
      "Epoch 13/1000\n",
      "641/641 [==============================] - 1s 1ms/step - loss: 0.0739 - val_loss: 0.0684\n",
      "Epoch 14/1000\n",
      "641/641 [==============================] - 1s 1ms/step - loss: 0.0647 - val_loss: 0.0611\n",
      "Epoch 15/1000\n",
      "641/641 [==============================] - 1s 1ms/step - loss: 0.0580 - val_loss: 0.0575\n",
      "Epoch 16/1000\n",
      "641/641 [==============================] - 1s 1ms/step - loss: 0.0512 - val_loss: 0.0490\n",
      "Epoch 17/1000\n",
      "641/641 [==============================] - 1s 1ms/step - loss: 0.0428 - val_loss: 0.0422\n",
      "Epoch 18/1000\n",
      "641/641 [==============================] - 1s 1ms/step - loss: 0.0380 - val_loss: 0.0386\n",
      "Epoch 19/1000\n",
      "641/641 [==============================] - 1s 1ms/step - loss: 0.0344 - val_loss: 0.0343\n",
      "Epoch 20/1000\n",
      "641/641 [==============================] - 1s 1ms/step - loss: 0.0295 - val_loss: 0.0301\n",
      "Epoch 21/1000\n",
      "641/641 [==============================] - 1s 1ms/step - loss: 0.0249 - val_loss: 0.0269\n",
      "Epoch 22/1000\n",
      "641/641 [==============================] - 1s 1ms/step - loss: 0.0216 - val_loss: 0.0240\n",
      "Epoch 23/1000\n",
      "641/641 [==============================] - 1s 1ms/step - loss: 0.0189 - val_loss: 0.0210\n",
      "Epoch 24/1000\n",
      "641/641 [==============================] - 1s 1ms/step - loss: 0.0177 - val_loss: 0.0199\n",
      "Epoch 25/1000\n",
      "641/641 [==============================] - 1s 1ms/step - loss: 0.0170 - val_loss: 0.0194\n",
      "Epoch 26/1000\n",
      "641/641 [==============================] - 1s 1ms/step - loss: 0.0166 - val_loss: 0.0195\n",
      "Epoch 27/1000\n",
      "641/641 [==============================] - 1s 1ms/step - loss: 0.0167 - val_loss: 0.0209\n",
      "Epoch 28/1000\n",
      "641/641 [==============================] - 1s 1ms/step - loss: 0.0170 - val_loss: 0.0204\n",
      "Epoch 29/1000\n",
      "641/641 [==============================] - 1s 1ms/step - loss: 0.0165 - val_loss: 0.0192\n",
      "Epoch 30/1000\n",
      "641/641 [==============================] - 1s 1ms/step - loss: 0.0179 - val_loss: 0.0218\n",
      "Epoch 31/1000\n",
      "641/641 [==============================] - 1s 1ms/step - loss: 0.0206 - val_loss: 0.0223\n",
      "Epoch 32/1000\n",
      "641/641 [==============================] - 1s 1ms/step - loss: 0.0210 - val_loss: 0.0223\n",
      "Epoch 33/1000\n",
      "641/641 [==============================] - 1s 1ms/step - loss: 0.0206 - val_loss: 0.0208\n",
      "Epoch 34/1000\n",
      "641/641 [==============================] - 1s 1ms/step - loss: 0.0177 - val_loss: 0.0201\n",
      "Epoch 35/1000\n",
      "641/641 [==============================] - 1s 1ms/step - loss: 0.0172 - val_loss: 0.0225\n",
      "Epoch 36/1000\n",
      "641/641 [==============================] - 1s 1ms/step - loss: 0.0190 - val_loss: 0.0239\n",
      "Epoch 37/1000\n",
      "641/641 [==============================] - 1s 1ms/step - loss: 0.0183 - val_loss: 0.0207\n",
      "Epoch 38/1000\n",
      "641/641 [==============================] - 1s 1ms/step - loss: 0.0163 - val_loss: 0.0192\n",
      "Epoch 39/1000\n",
      "641/641 [==============================] - 1s 1ms/step - loss: 0.0162 - val_loss: 0.0192\n",
      "Epoch 40/1000\n",
      "641/641 [==============================] - 1s 1ms/step - loss: 0.0164 - val_loss: 0.0192\n",
      "Epoch 41/1000\n",
      "641/641 [==============================] - 1s 1ms/step - loss: 0.0169 - val_loss: 0.0200\n",
      "Epoch 42/1000\n",
      "641/641 [==============================] - 1s 1ms/step - loss: 0.0178 - val_loss: 0.0197\n",
      "Epoch 43/1000\n",
      "641/641 [==============================] - 1s 1ms/step - loss: 0.0170 - val_loss: 0.0194\n",
      "Epoch 44/1000\n",
      "641/641 [==============================] - 1s 975us/step - loss: 0.0164 - val_loss: 0.0197\n",
      "Epoch 45/1000\n",
      "641/641 [==============================] - 1s 1ms/step - loss: 0.0163 - val_loss: 0.0199\n",
      "Epoch 46/1000\n",
      "641/641 [==============================] - 1s 1ms/step - loss: 0.0161 - val_loss: 0.0196\n",
      "Epoch 47/1000\n",
      "641/641 [==============================] - 1s 1ms/step - loss: 0.0159 - val_loss: 0.0193\n",
      "Epoch 48/1000\n",
      "641/641 [==============================] - 1s 1ms/step - loss: 0.0159 - val_loss: 0.0191\n",
      "Epoch 49/1000\n",
      "641/641 [==============================] - 1s 1ms/step - loss: 0.0158 - val_loss: 0.0191\n",
      "Epoch 50/1000\n",
      "641/641 [==============================] - 1s 1ms/step - loss: 0.0158 - val_loss: 0.0192\n",
      "Epoch 51/1000\n",
      "641/641 [==============================] - 1s 1ms/step - loss: 0.0158 - val_loss: 0.0193\n",
      "Epoch 52/1000\n",
      "641/641 [==============================] - 1s 1ms/step - loss: 0.0158 - val_loss: 0.0192\n",
      "Epoch 53/1000\n",
      "641/641 [==============================] - 1s 1ms/step - loss: 0.0158 - val_loss: 0.0192\n",
      "Epoch 54/1000\n",
      "641/641 [==============================] - 1s 1ms/step - loss: 0.0157 - val_loss: 0.0191\n",
      "Epoch 55/1000\n",
      "641/641 [==============================] - 1s 1ms/step - loss: 0.0157 - val_loss: 0.0190\n",
      "Epoch 56/1000\n",
      "641/641 [==============================] - 1s 1ms/step - loss: 0.0159 - val_loss: 0.0190\n",
      "Epoch 57/1000\n",
      "641/641 [==============================] - 1s 1ms/step - loss: 0.0162 - val_loss: 0.0190\n",
      "Epoch 58/1000\n",
      "641/641 [==============================] - 1s 1ms/step - loss: 0.0159 - val_loss: 0.0192\n",
      "Epoch 59/1000\n",
      "641/641 [==============================] - 1s 1ms/step - loss: 0.0163 - val_loss: 0.0224\n",
      "Epoch 60/1000\n",
      "641/641 [==============================] - 1s 1ms/step - loss: 0.0175 - val_loss: 0.0218\n",
      "Epoch 61/1000\n",
      "641/641 [==============================] - 1s 1ms/step - loss: 0.0164 - val_loss: 0.0199\n",
      "Epoch 62/1000\n",
      "641/641 [==============================] - 1s 1ms/step - loss: 0.0158 - val_loss: 0.0197\n",
      "Epoch 63/1000\n",
      "641/641 [==============================] - 1s 1ms/step - loss: 0.0161 - val_loss: 0.0227\n",
      "Epoch 64/1000\n",
      "641/641 [==============================] - 1s 1ms/step - loss: 0.0175 - val_loss: 0.0223\n",
      "Epoch 65/1000\n",
      "641/641 [==============================] - 1s 981us/step - loss: 0.0167 - val_loss: 0.0203\n",
      "Epoch 00065: early stopping\n"
     ]
    }
   ],
   "source": [
    "callback = EarlyStopping(monitor=\"loss\", patience=10, verbose=1, mode=\"auto\")\n",
    "trainHistory = model.fit(X_train, Y_train, epochs=1000, batch_size=128, validation_data=(X_val, Y_val), callbacks=[callback])"
   ]
  },
  {
   "cell_type": "markdown",
   "metadata": {},
   "source": [
    "### 繪製Loss線"
   ]
  },
  {
   "cell_type": "code",
   "execution_count": 60,
   "metadata": {},
   "outputs": [
    {
     "data": {
      "image/png": "[encoded data removed]",
      "text/plain": [
       "<Figure size 432x288 with 1 Axes>"
      ]
     },
     "metadata": {
      "needs_background": "light"
     },
     "output_type": "display_data"
    }
   ],
   "source": [
    "plt.plot(trainHistory.history['loss'], color='r', label='loss')\n",
    "plt.plot(trainHistory.history['val_loss'], color='b', label='val_loss')\n",
    "plt.legend()\n",
    "plt.show()"
   ]
  },
  {
   "cell_type": "markdown",
   "metadata": {},
   "source": [
    "### 匯出模型"
   ]
  },
  {
   "cell_type": "code",
   "execution_count": 61,
   "metadata": {},
   "outputs": [],
   "source": [
    "model.save('model.h5')"
   ]
  },
  {
   "cell_type": "markdown",
   "metadata": {},
   "source": [
    "# 測試模型"
   ]
  },
  {
   "cell_type": "code",
   "execution_count": 62,
   "metadata": {},
   "outputs": [],
   "source": [
    "from keras.models import load_model\n",
    "my_model = load_model('model.h5')"
   ]
  },
  {
   "cell_type": "code",
   "execution_count": 63,
   "metadata": {},
   "outputs": [
    {
     "name": "stdout",
     "output_type": "stream",
     "text": [
      "X_test: (330, 100, 1)\n",
      "Y_test: (330,)\n"
     ]
    }
   ],
   "source": [
    "test = readData('output2.txt')\n",
    "test_norm = normalize(test)\n",
    "X_test, Y_test = buildTrain(test_norm, 100)\n",
    "X_test = np.reshape(X_test, (X_test.shape[0], X_test.shape[1], 1))\n",
    "print(f'X_test: {X_test.shape}')\n",
    "print(f'Y_test: {Y_test.shape}')"
   ]
  },
  {
   "cell_type": "code",
   "execution_count": 64,
   "metadata": {},
   "outputs": [
    {
     "data": {
      "image/png": "[encoded data removed]",
      "text/plain": [
       "<Figure size 432x288 with 1 Axes>"
      ]
     },
     "metadata": {
      "needs_background": "light"
     },
     "output_type": "display_data"
    }
   ],
   "source": [
    "predicted = my_model.predict(X_test)\n",
    "plt.plot(test_norm[100:,1], color='g', label='X_test')\n",
    "plt.plot(Y_test, color='r', label='Y_test')\n",
    "plt.plot(predicted, color='b', label='Predicted')\n",
    "plt.legend()\n",
    "plt.show()"
   ]
  }
 ],
 "metadata": {
  "kernelspec": {
   "display_name": "Python 3",
   "language": "python",
   "name": "python3"
  },
  "orig_nbformat": 4
 },
 "nbformat": 4,
 "nbformat_minor": 2
}
