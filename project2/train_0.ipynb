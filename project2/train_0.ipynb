{
 "cells": [
  {
   "cell_type": "markdown",
   "metadata": {},
   "source": [
    "### 環境初始化"
   ]
  },
  {
   "cell_type": "code",
   "execution_count": 4,
   "outputs": [],
   "source": [
    "import os\n",
    "# os.environ[\"CUDA_VISIBLE_DEVICES\"] = \"-1\""
   ],
   "metadata": {
    "collapsed": false,
    "pycharm": {
     "name": "#%%\n"
    }
   }
  },
  {
   "cell_type": "code",
   "execution_count": 2,
   "outputs": [],
   "source": [
    "import numpy as np\n",
    "import tensorflow as tf\n",
    "from tensorflow import keras\n",
    "from tensorflow.keras import layers\n",
    "from tensorflow.keras.utils import plot_model\n",
    "from IPython.display import Image\n",
    "import matplotlib.pyplot as plt\n",
    "import json\n",
    "import random\n",
    "import time\n",
    "import pandas as pd\n",
    "%matplotlib inline"
   ],
   "metadata": {
    "collapsed": false,
    "pycharm": {
     "name": "#%%\n"
    }
   }
  },
  {
   "cell_type": "markdown",
   "metadata": {},
   "source": [
    "### 資料集格式範例"
   ]
  },
  {
   "cell_type": "markdown",
   "metadata": {},
   "source": [
    "\n",
    "檔案標頭\n",
    "```json\n",
    "{\n",
    "    \"file\": \"1-FemaleNoGlasses-Normal\",\n",
    "    \"size\": 419,\n",
    "    \"fps\": 30,\n",
    "    \"marker_path\": \"dataset/markers/1-FemaleNoGlasses-Normal.csv\",\n",
    "    \"video_path\": \"dataset/YawDD/train/1-FemaleNoGlasses-Normal.avi\"\n",
    "}\n",
    "```\n",
    "標記內容\n",
    "```json\n",
    "{\n",
    "    \"index\": 1,\n",
    "    \"level\": \"0\",\n",
    "    \"mouth_ear\": 0.02305602969572012,\n",
    "    \"roll\": -2.8421378836556643,\n",
    "    \"yaw\": 38.241611421108246,\n",
    "    \"pitch\": -11.410418897867203\n",
    "}\n",
    "```"
   ]
  },
  {
   "cell_type": "markdown",
   "metadata": {},
   "source": [
    "### 功能函式"
   ]
  },
  {
   "cell_type": "markdown",
   "metadata": {},
   "source": [
    "**自訂功能函式**：map(var, in_min, in_max, out_min, out_max)"
   ]
  },
  {
   "cell_type": "code",
   "execution_count": 5,
   "metadata": {},
   "outputs": [],
   "source": [
    "def map(var, in_min, in_max, out_min, out_max):\n",
    "    var = float(var)\n",
    "    if var >= in_max:\n",
    "        return out_max\n",
    "    if var <= in_min:\n",
    "        return out_min\n",
    "    return (var - in_min) * (out_max - out_min) / (in_max - in_min) + out_min"
   ]
  },
  {
   "cell_type": "markdown",
   "metadata": {},
   "source": [
    "**讀取資料集且正規化**：readData(file)"
   ]
  },
  {
   "cell_type": "code",
   "execution_count": 6,
   "metadata": {},
   "outputs": [],
   "source": [
    "def readDataList(file):\n",
    "    train_list = []\n",
    "    with open(file, 'r', encoding='utf-8') as f:\n",
    "        while True:\n",
    "            line = f.readline()\n",
    "            if len(line) == 0: break\n",
    "            file_json = json.loads(line)\n",
    "            mlist = []\n",
    "            for i in range(file_json['size']):\n",
    "                mline = f.readline()\n",
    "                mjson = json.loads(mline)\n",
    "                level = map(mjson['level'], 0, 5, 0, 1)\n",
    "                mar = map(mjson['mar'], 0, 1, 0, 1)\n",
    "                ear_l = map(mjson['ear_l'], 0, 1, 0, 1)\n",
    "                ear_r = map(mjson['ear_r'], 0, 1, 0, 1)\n",
    "                entropy = map(mjson['entropy'], 0, 30, 0, 1)\n",
    "                # roll = map(mjson['roll'], -50, 50, -1, 1)\n",
    "                # yaw = map(mjson['yaw'], -50, 50, -1, 1)\n",
    "                # pitch = map(mjson['pitch'], -50, 50, -1, 1)\n",
    "                mlist.append(np.array([\n",
    "                    level,\n",
    "                    mar,\n",
    "                    ear_l,\n",
    "                    ear_r,\n",
    "                    entropy\n",
    "                ]))\n",
    "            train_list.append(np.array(mlist))\n",
    "    return np.array(train_list)"
   ]
  },
  {
   "cell_type": "markdown",
   "metadata": {},
   "source": [
    "**產生訓練資料**：buildTrain(train_list, long=300)"
   ]
  },
  {
   "cell_type": "code",
   "execution_count": 7,
   "metadata": {},
   "outputs": [],
   "source": [
    "def buildTrain(train_list, long=300):\n",
    "  X_train, Y_train = [], []\n",
    "  for t in train_list:\n",
    "    train = np.array(t)\n",
    "    for i in range(train.shape[0]-long):\n",
    "      X_train.append(train[i:i+long,1:])\n",
    "      Y_train.append(train[i+long-1][0])\n",
    "  return np.array(X_train), np.array(Y_train)"
   ]
  },
  {
   "cell_type": "markdown",
   "metadata": {},
   "source": [
    "**資料隨機排序**：shuffle(X,Y)"
   ]
  },
  {
   "cell_type": "code",
   "execution_count": 8,
   "metadata": {},
   "outputs": [],
   "source": [
    "def shuffle(X,Y):\n",
    "    np.random.seed(10)\n",
    "    randomList = np.arange(X.shape[0])\n",
    "    np.random.shuffle(randomList)\n",
    "    return X[randomList], Y[randomList]"
   ]
  },
  {
   "cell_type": "markdown",
   "metadata": {},
   "source": [
    "**產生驗證資料**：splitData(X, Y, rate)"
   ]
  },
  {
   "cell_type": "code",
   "execution_count": 9,
   "metadata": {},
   "outputs": [],
   "source": [
    "def splitData(X, Y, rate):\n",
    "    X_train = X[int(X.shape[0]*rate):]\n",
    "    Y_train = Y[int(Y.shape[0]*rate):]\n",
    "    X_val = X[:int(X.shape[0]*rate)]\n",
    "    Y_val = Y[:int(Y.shape[0]*rate)]\n",
    "    return X_train, Y_train, X_val, Y_val"
   ]
  },
  {
   "cell_type": "markdown",
   "metadata": {},
   "source": [
    "### 主程式"
   ]
  },
  {
   "cell_type": "markdown",
   "metadata": {},
   "source": [
    "##### 建立訓練資料"
   ]
  },
  {
   "cell_type": "code",
   "execution_count": 10,
   "metadata": {},
   "outputs": [
    {
     "name": "stderr",
     "output_type": "stream",
     "text": [
      "C:\\Users\\kk693\\AppData\\Local\\Temp\\ipykernel_43948\\1008141229.py:28: VisibleDeprecationWarning: Creating an ndarray from ragged nested sequences (which is a list-or-tuple of lists-or-tuples-or ndarrays with different lengths or shapes) is deprecated. If you meant to do this, you must specify 'dtype=object' when creating the ndarray\n",
      "  return np.array(train_list)\n"
     ]
    }
   ],
   "source": [
    "train_list = readDataList('train_data.txt')\n",
    "X_train, Y_train = buildTrain(train_list, 600)\n",
    "X_train, Y_train = shuffle(X_train, Y_train)\n",
    "X_train, Y_train, X_val, Y_val = splitData(X_train, Y_train, 0.2)\n",
    "X_val, Y_val, X_test, Y_test = splitData(X_val, Y_val, 0.5)"
   ]
  },
  {
   "cell_type": "code",
   "execution_count": 11,
   "outputs": [
    {
     "name": "stdout",
     "output_type": "stream",
     "text": [
      "(35296, 600, 4)\n",
      "(35296, 600, 3)\n"
     ]
    }
   ],
   "source": [
    "print(X_train.shape)\n",
    "x_train = X_train[:, :, 0:-1]\n",
    "print(x_train.shape)"
   ],
   "metadata": {
    "collapsed": false,
    "pycharm": {
     "name": "#%%\n"
    }
   }
  },
  {
   "cell_type": "code",
   "execution_count": 12,
   "outputs": [
    {
     "name": "stdout",
     "output_type": "stream",
     "text": [
      "(4412, 600, 4)\n",
      "(4412, 600, 3)\n"
     ]
    }
   ],
   "source": [
    "print(X_val.shape)\n",
    "x_val = X_val[:, :, 0:-1]\n",
    "print(x_val.shape)"
   ],
   "metadata": {
    "collapsed": false,
    "pycharm": {
     "name": "#%%\n"
    }
   }
  },
  {
   "cell_type": "code",
   "execution_count": 13,
   "outputs": [
    {
     "name": "stdout",
     "output_type": "stream",
     "text": [
      "(4412, 600, 4)\n",
      "(4412, 600, 3)\n"
     ]
    }
   ],
   "source": [
    "print(X_test.shape)\n",
    "x_test = X_test[:, :, 0:-1]\n",
    "print(x_test.shape)"
   ],
   "metadata": {
    "collapsed": false,
    "pycharm": {
     "name": "#%%\n"
    }
   }
  },
  {
   "cell_type": "markdown",
   "metadata": {},
   "source": [
    "**訓練資料圖形化**"
   ]
  },
  {
   "cell_type": "code",
   "execution_count": 14,
   "metadata": {},
   "outputs": [
    {
     "name": "stdout",
     "output_type": "stream",
     "text": [
      "X_data = [8542,:,0], Y_data = 1.0\n"
     ]
    },
    {
     "data": {
      "text/plain": "<Figure size 432x288 with 1 Axes>",
      "image/png": "[encoded data removed]"
     },
     "metadata": {
      "needs_background": "light"
     },
     "output_type": "display_data"
    },
    {
     "name": "stdout",
     "output_type": "stream",
     "text": [
      "X_data = [6945,:,0], Y_data = 0.0\n"
     ]
    },
    {
     "data": {
      "text/plain": "<Figure size 432x288 with 1 Axes>",
      "image/png": "[encoded data removed]"
     },
     "metadata": {
      "needs_background": "light"
     },
     "output_type": "display_data"
    }
   ],
   "source": [
    "def drawTrain(i, num):\n",
    "    plt.subplot(210 + i)\n",
    "    plt.plot(X_train[num,:,0], label='mar')\n",
    "    plt.plot(X_train[num,:,1], label='ear_l')\n",
    "    plt.plot(X_train[num,:,2], label='ear_r')\n",
    "    plt.plot(X_train[num,:,3], label='entropy')\n",
    "    print(f'X_data = [{num},:,0], Y_data = {Y_train[num]}')\n",
    "    plt.ylim(0, 0.5)\n",
    "    plt.legend()\n",
    "    plt.grid(True)\n",
    "    plt.show()\n",
    "def getRnd():\n",
    "    return random.randint(0, X_train.shape[0] - 1)\n",
    "def draw():\n",
    "    while True:\n",
    "        rnd = getRnd()\n",
    "        if Y_train[rnd] > 0.5:\n",
    "            drawTrain(1, rnd)\n",
    "            break\n",
    "    while True:\n",
    "        rnd = getRnd()\n",
    "        if Y_train[rnd] <= 0.5:\n",
    "            drawTrain(2, rnd)\n",
    "            break\n",
    "draw()"
   ]
  },
  {
   "cell_type": "markdown",
   "metadata": {},
   "source": [
    "##### 建立訓練模型"
   ]
  },
  {
   "cell_type": "code",
   "execution_count": 15,
   "outputs": [
    {
     "name": "stdout",
     "output_type": "stream",
     "text": [
      "Model: \"sequential\"\n",
      "_________________________________________________________________\n",
      "Layer (type)                 Output Shape              Param #   \n",
      "=================================================================\n",
      "lstm (LSTM)                  (None, 600, 50)           10800     \n",
      "_________________________________________________________________\n",
      "dropout (Dropout)            (None, 600, 50)           0         \n",
      "_________________________________________________________________\n",
      "lstm_1 (LSTM)                (None, 600, 50)           20200     \n",
      "_________________________________________________________________\n",
      "dropout_1 (Dropout)          (None, 600, 50)           0         \n",
      "_________________________________________________________________\n",
      "lstm_2 (LSTM)                (None, 600, 50)           20200     \n",
      "_________________________________________________________________\n",
      "dropout_2 (Dropout)          (None, 600, 50)           0         \n",
      "_________________________________________________________________\n",
      "lstm_3 (LSTM)                (None, 600, 50)           20200     \n",
      "_________________________________________________________________\n",
      "dropout_3 (Dropout)          (None, 600, 50)           0         \n",
      "_________________________________________________________________\n",
      "lstm_4 (LSTM)                (None, 50)                20200     \n",
      "_________________________________________________________________\n",
      "dropout_4 (Dropout)          (None, 50)                0         \n",
      "_________________________________________________________________\n",
      "dense (Dense)                (None, 1)                 51        \n",
      "=================================================================\n",
      "Total params: 91,651\n",
      "Trainable params: 91,651\n",
      "Non-trainable params: 0\n",
      "_________________________________________________________________\n"
     ]
    }
   ],
   "source": [
    "model = keras.Sequential([\n",
    "    layers.LSTM(50, return_sequences = True, input_shape=x_train.shape[1:]),\n",
    "    layers.Dropout(0.2),\n",
    "    layers.LSTM(50, return_sequences = True),\n",
    "    layers.Dropout(0.2),\n",
    "    layers.LSTM(50, return_sequences = True),\n",
    "    layers.Dropout(0.2),\n",
    "    layers.LSTM(50, return_sequences = True),\n",
    "    layers.Dropout(0.2),\n",
    "    layers.LSTM(50),\n",
    "    layers.Dropout(0.2),\n",
    "    layers.Dense(1)\n",
    "])\n",
    "model.summary()"
   ],
   "metadata": {
    "collapsed": false,
    "pycharm": {
     "name": "#%%\n"
    }
   }
  },
  {
   "cell_type": "markdown",
   "metadata": {},
   "source": [
    "##### 開始訓練"
   ]
  },
  {
   "cell_type": "code",
   "execution_count": 16,
   "outputs": [
    {
     "name": "stdout",
     "output_type": "stream",
     "text": [
      "2022_04_02-00_09_34-LSTM-params_91651-batch_256-optimizer_adam-loss_mse\n"
     ]
    }
   ],
   "source": [
    "''' trainParam '''\n",
    "model_tag = 'LSTM'\n",
    "optimizer = \"adam\"\n",
    "loss = \"mse\"\n",
    "batch_size = 256\n",
    "epochs = 10000\n",
    "time_tag = time.strftime(\"%Y_%m_%d-%H_%M_%S\", time.localtime())\n",
    "params_num = model.count_params()\n",
    "model_dir = f'{time_tag}-{model_tag}-params_{params_num}-batch_{batch_size}-optimizer_{optimizer}-loss_{loss}'\n",
    "print(model_dir)\n",
    "callbacks = list()\n",
    "model.compile(optimizer=\"adam\", loss=\"mse\")\n",
    "''' EarlyStopping '''\n",
    "callbacks.append(\n",
    "    keras.callbacks.EarlyStopping(monitor=\"loss\", patience=10, verbose=1, mode=\"auto\")\n",
    ")\n",
    "''' ModelCheckpoint '''\n",
    "model_name = 'epoch_{epoch:03d}-val_loss_{val_loss:.3f}.hdf5'\n",
    "filepath = os.path.join('models', model_dir, model_name)\n",
    "callbacks.append(\n",
    "    keras.callbacks.ModelCheckpoint(filepath, monitor='val_loss', verbose=0, save_best_only=False, save_weights_only=False, mode='auto', save_freq='epoch')\n",
    ")\n",
    "''' TensorBoard '''\n",
    "log_dir = os.path.join('models', 'logs', model_dir)\n",
    "callbacks.append(\n",
    "    keras.callbacks.TensorBoard(log_dir=log_dir)\n",
    ")"
   ],
   "metadata": {
    "collapsed": false,
    "pycharm": {
     "name": "#%%\n"
    }
   }
  },
  {
   "cell_type": "code",
   "execution_count": 17,
   "outputs": [
    {
     "name": "stdout",
     "output_type": "stream",
     "text": [
      "Epoch 1/10000\n",
      "138/138 [==============================] - 44s 275ms/step - loss: 0.0142 - val_loss: 0.0146\n",
      "Epoch 2/10000\n",
      "138/138 [==============================] - 35s 253ms/step - loss: 0.0122 - val_loss: 0.0133\n",
      "Epoch 3/10000\n",
      "138/138 [==============================] - 34s 249ms/step - loss: 0.0109 - val_loss: 0.0140\n",
      "Epoch 4/10000\n",
      "138/138 [==============================] - 35s 254ms/step - loss: 0.0105 - val_loss: 0.0144\n",
      "Epoch 5/10000\n",
      "138/138 [==============================] - 35s 252ms/step - loss: 0.0108 - val_loss: 0.0120\n",
      "Epoch 6/10000\n",
      "138/138 [==============================] - 35s 253ms/step - loss: 0.0099 - val_loss: 0.0116\n",
      "Epoch 7/10000\n",
      "138/138 [==============================] - 37s 265ms/step - loss: 0.0092 - val_loss: 0.0152\n",
      "Epoch 8/10000\n",
      "138/138 [==============================] - 37s 266ms/step - loss: 0.0097 - val_loss: 0.0092\n",
      "Epoch 9/10000\n",
      "138/138 [==============================] - 35s 251ms/step - loss: 0.0092 - val_loss: 0.0123\n",
      "Epoch 10/10000\n",
      "138/138 [==============================] - 35s 255ms/step - loss: 0.0094 - val_loss: 0.0092\n",
      "Epoch 11/10000\n",
      "138/138 [==============================] - 37s 266ms/step - loss: 0.0097 - val_loss: 0.0116\n",
      "Epoch 12/10000\n",
      "138/138 [==============================] - 38s 277ms/step - loss: 0.0112 - val_loss: 0.0119\n",
      "Epoch 13/10000\n",
      "138/138 [==============================] - 37s 265ms/step - loss: 0.0096 - val_loss: 0.0127\n",
      "Epoch 14/10000\n",
      "138/138 [==============================] - 38s 272ms/step - loss: 0.0094 - val_loss: 0.0109\n",
      "Epoch 15/10000\n",
      "138/138 [==============================] - 39s 281ms/step - loss: 0.0098 - val_loss: 0.0115\n",
      "Epoch 16/10000\n",
      "138/138 [==============================] - 34s 248ms/step - loss: 0.0096 - val_loss: 0.0103\n",
      "Epoch 17/10000\n",
      "138/138 [==============================] - 34s 247ms/step - loss: 0.0079 - val_loss: 0.0108\n",
      "Epoch 18/10000\n",
      "138/138 [==============================] - 34s 247ms/step - loss: 0.0068 - val_loss: 0.0077\n",
      "Epoch 19/10000\n",
      "138/138 [==============================] - 34s 249ms/step - loss: 0.0061 - val_loss: 0.0064\n",
      "Epoch 20/10000\n",
      "138/138 [==============================] - 37s 267ms/step - loss: 0.0061 - val_loss: 0.0054\n",
      "Epoch 21/10000\n",
      "138/138 [==============================] - 36s 261ms/step - loss: 0.0087 - val_loss: 0.0083\n",
      "Epoch 22/10000\n",
      "138/138 [==============================] - 127s 923ms/step - loss: 0.0056 - val_loss: 0.0044\n",
      "Epoch 23/10000\n",
      "138/138 [==============================] - 177s 1s/step - loss: 0.0051 - val_loss: 0.0025\n",
      "Epoch 24/10000\n",
      "138/138 [==============================] - 153s 1s/step - loss: 0.0046 - val_loss: 0.0142\n",
      "Epoch 25/10000\n",
      "138/138 [==============================] - 153s 1s/step - loss: 0.0098 - val_loss: 0.0123\n",
      "Epoch 26/10000\n",
      "138/138 [==============================] - 156s 1s/step - loss: 0.0104 - val_loss: 0.0172\n",
      "Epoch 27/10000\n",
      "138/138 [==============================] - 161s 1s/step - loss: 0.0119 - val_loss: 0.0129\n",
      "Epoch 28/10000\n",
      "138/138 [==============================] - 149s 1s/step - loss: 0.0096 - val_loss: 0.0117\n",
      "Epoch 29/10000\n",
      "138/138 [==============================] - 151s 1s/step - loss: 0.0074 - val_loss: 0.0080\n",
      "Epoch 30/10000\n",
      "138/138 [==============================] - 166s 1s/step - loss: 0.0078 - val_loss: 0.0121\n",
      "Epoch 31/10000\n",
      "138/138 [==============================] - 161s 1s/step - loss: 0.0090 - val_loss: 0.0132\n",
      "Epoch 32/10000\n",
      "138/138 [==============================] - 150s 1s/step - loss: 0.0076 - val_loss: 0.0073\n",
      "Epoch 33/10000\n",
      "138/138 [==============================] - 144s 1s/step - loss: 0.0058 - val_loss: 0.0058\n",
      "Epoch 34/10000\n",
      "138/138 [==============================] - 162s 1s/step - loss: 0.0051 - val_loss: 0.0126\n",
      "Epoch 00034: early stopping\n"
     ]
    }
   ],
   "source": [
    "trainHistory = model.fit(\n",
    "    x_train, Y_train,\n",
    "    batch_size=batch_size,\n",
    "    epochs=epochs,\n",
    "    validation_data=(x_val, Y_val),\n",
    "    callbacks=callbacks\n",
    ")"
   ],
   "metadata": {
    "collapsed": false,
    "pycharm": {
     "name": "#%%\n"
    }
   }
  },
  {
   "cell_type": "markdown",
   "metadata": {},
   "source": [
    "**繪製Loss線**"
   ]
  },
  {
   "cell_type": "code",
   "execution_count": 16,
   "metadata": {},
   "outputs": [
    {
     "data": {
      "text/plain": "<Figure size 432x288 with 1 Axes>",
      "image/png": "[encoded data removed]"
     },
     "metadata": {
      "needs_background": "light"
     },
     "output_type": "display_data"
    }
   ],
   "source": [
    "plt.plot(trainHistory.history['loss'], color='r', label='loss')\n",
    "plt.plot(trainHistory.history['val_loss'], color='b', label='val_loss')\n",
    "plt.legend()\n",
    "plt.show()"
   ]
  },
  {
   "cell_type": "markdown",
   "metadata": {},
   "source": [
    "### 匯出模型"
   ]
  },
  {
   "cell_type": "code",
   "execution_count": null,
   "metadata": {},
   "outputs": [],
   "source": [
    "model_file_name = f'model_{len(model.layers)}_layer_{epochs}_epoch_{batch_size}_batch.h5'\n",
    "model_file_name"
   ]
  },
  {
   "cell_type": "code",
   "execution_count": null,
   "metadata": {},
   "outputs": [],
   "source": [
    "model.save(model_file_name)"
   ]
  },
  {
   "cell_type": "markdown",
   "metadata": {},
   "source": [
    "# 測試模型"
   ]
  },
  {
   "cell_type": "code",
   "execution_count": null,
   "metadata": {},
   "outputs": [],
   "source": [
    "from keras.models import load_model\n",
    "my_model = load_model(model_file_name)"
   ]
  },
  {
   "cell_type": "code",
   "execution_count": null,
   "outputs": [],
   "source": [
    "predicted = my_model.predict(X_test)\n",
    "plt.plot(test_norm[100:,1], color='g', label='X_test')\n",
    "plt.plot(Y_test, color='r', label='Y_test')\n",
    "plt.plot(predicted, color='b', label='Predicted')\n",
    "plt.legend()\n",
    "plt.show()"
   ],
   "metadata": {
    "collapsed": false,
    "pycharm": {
     "name": "#%%\n"
    }
   }
  },
  {
   "cell_type": "code",
   "execution_count": null,
   "metadata": {},
   "outputs": [],
   "source": [
    "predicted = model.predict(x_test)"
   ]
  },
  {
   "cell_type": "code",
   "execution_count": null,
   "outputs": [],
   "source": [
    "predicted[predicted<0]=0"
   ],
   "metadata": {
    "collapsed": false,
    "pycharm": {
     "name": "#%%\n"
    }
   }
  },
  {
   "cell_type": "code",
   "execution_count": null,
   "outputs": [],
   "source": [
    "from time import sleep"
   ],
   "metadata": {
    "collapsed": false,
    "pycharm": {
     "name": "#%%\n"
    }
   }
  },
  {
   "cell_type": "code",
   "execution_count": null,
   "outputs": [],
   "source": [
    "for r in range(len(Y_test)):\n",
    "    if Y_test[r] == 0: continue\n",
    "    print(f'{Y_test[r]}, {predicted[r, 0]:.2f}')"
   ],
   "metadata": {
    "collapsed": false,
    "pycharm": {
     "name": "#%%\n"
    }
   }
  },
  {
   "cell_type": "code",
   "execution_count": null,
   "outputs": [],
   "source": [
    "for r in range(0, len(Y_test), 50):\n",
    "    plt.plot(Y_test[r:r+50], color='r', label='Y_test')\n",
    "    plt.plot(predicted[r:r+50], color='b', label='Predicted')\n",
    "    plt.legend()\n",
    "    plt.show()"
   ],
   "metadata": {
    "collapsed": false,
    "pycharm": {
     "name": "#%%\n"
    }
   }
  }
 ],
 "metadata": {
  "kernelspec": {
   "display_name": "Python 3",
   "language": "python",
   "name": "python3"
  },
  "orig_nbformat": 4
 },
 "nbformat": 4,
 "nbformat_minor": 2
}